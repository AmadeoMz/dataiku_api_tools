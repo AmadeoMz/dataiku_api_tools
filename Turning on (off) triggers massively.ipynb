{
 "cells": [
  {
   "cell_type": "code",
   "execution_count": 2,
   "metadata": {},
   "outputs": [
    {
     "name": "stdout",
     "output_type": "stream",
     "text": [
      "Populating the interactive namespace from numpy and matplotlib\n"
     ]
    }
   ],
   "source": [
    "%pylab inline"
   ]
  },
  {
   "cell_type": "markdown",
   "metadata": {},
   "source": [
    "1. Elegir una hora en el formato de 24hrs, eg. 18:30 para las 6:30 pm y 05:00 para las 5 am, por la cual filtraremos los escenarios \n",
    "2. Elegir la acción a efectuar on/off para prender/apagar el trigger\n",
    "\n",
    "Nota: esta acción no distingue entre procesos (BBU, R1, 100t, etc.), por lo cual toma todos los escenarios existentes en Dataiku."
   ]
  },
  {
   "cell_type": "code",
   "execution_count": 62,
   "metadata": {},
   "outputs": [],
   "source": [
    "hour = '07:00'\n",
    "action = 'off'"
   ]
  },
  {
   "cell_type": "code",
   "execution_count": 63,
   "metadata": {},
   "outputs": [],
   "source": [
    "import dataiku\n",
    "from dataiku import api_client\n",
    "import pandas as pd"
   ]
  },
  {
   "cell_type": "code",
   "execution_count": 64,
   "metadata": {},
   "outputs": [
    {
     "name": "stdout",
     "output_type": "stream",
     "text": [
      "('El escenario ra_cust_trx_line_gl_dist_all se desactivo correctamente', '1 de 3')\n",
      "('El escenario xla_distribution_links se desactivo correctamente', '2 de 3')\n",
      "('El escenario GL_IMPORT_REFERENCES se desactivo correctamente', '3 de 3')\n"
     ]
    }
   ],
   "source": [
    "client = dataiku.api_client() # Connect to dataiku\n",
    "project = client.get_project('project_name') #Take project\n",
    "all_scenarios = pd.DataFrame(project.list_scenarios()) #Take ALL scenaries from the project as a DataFrame\n",
    "\n",
    "scenarios_triggered = all_scenarios[all_scenarios.triggerDigest == 'Every day at {}'.format(hour)]  #Time filter\n",
    "scenarios_triggered_ids = scenarios_triggered['id'] #Lista de ids\n",
    "\n",
    "for i,scenario_trigg_id in enumerate(scenarios_triggered_ids):\n",
    "    #Loop for turning on/off the triggers\n",
    "    scenario = project.get_scenario(scenario_trigg_id)\n",
    "    \n",
    "    ##### Take the scenario name\n",
    "    last_run_finished=scenario.get_last_finished_run()\n",
    "    details = last_run_finished.get_details()\n",
    "    nombre=details['stepRuns'][0]['scenarioRun']['scenario']['params']['steps'][0]['params']['config']['parameters']['table-name']\n",
    "    \n",
    "    ##### Take setting and turn on/off the trigger\n",
    "    settings = scenario.get_settings()\n",
    "    try:\n",
    "        if action == 'on':\n",
    "            settings.active = True #Turn off the main trigger \n",
    "            print('El escenario {} se activo correctamente'.format(nombre), \"{} de {}\".format(i+1, len(scenarios_triggered_ids)))\n",
    "        elif action == 'off':\n",
    "            settings.active = False #Turn off the main trigger \n",
    "            print('El escenario {} se desactivo correctamente'.format(nombre),\"{} de {}\".format(i+1, len(scenarios_triggered_ids)))\n",
    "            \n",
    "        settings.save() #Save settings changes\n",
    "    except:\n",
    "        raise Exception(\"Algo salió mal en el escenario {}\".format(nombre))\n"
   ]
  },
  {
   "cell_type": "code",
   "execution_count": null,
   "metadata": {},
   "outputs": [],
   "source": []
  }
 ],
 "metadata": {
  "creator": "rei",
  "customFields": {},
  "kernelspec": {
   "display_name": "Python 2",
   "language": "python",
   "name": "python2"
  },
  "language_info": {
   "codemirror_mode": {
    "name": "ipython",
    "version": 2
   },
   "file_extension": ".py",
   "mimetype": "text/x-python",
   "name": "python",
   "nbconvert_exporter": "python",
   "pygments_lexer": "ipython2",
   "version": "2.7.5"
  },
  "tags": []
 },
 "nbformat": 4,
 "nbformat_minor": 1
}
